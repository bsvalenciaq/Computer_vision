{
  "nbformat": 4,
  "nbformat_minor": 0,
  "metadata": {
    "colab": {
      "name": "Tarea_kernel.ipynb",
      "provenance": [],
      "collapsed_sections": []
    },
    "kernelspec": {
      "name": "python3",
      "display_name": "Python 3"
    },
    "language_info": {
      "name": "python"
    }
  },
  "cells": [
    {
      "cell_type": "code",
      "source": [
        "import numpy as np\n",
        "import math\n",
        "from math import pi\n",
        "import matplotlib.pyplot as plt\n"
      ],
      "metadata": {
        "id": "VviV1CRMBHAt"
      },
      "execution_count": null,
      "outputs": []
    },
    {
      "cell_type": "markdown",
      "source": [
        "# 1. Most important operations supported in numpy"
      ],
      "metadata": {
        "id": "GKLLH2jfpFt_"
      }
    },
    {
      "cell_type": "markdown",
      "source": [
        "## Trigonometric"
      ],
      "metadata": {
        "id": "PhFusqBTpu8d"
      }
    },
    {
      "cell_type": "code",
      "source": [
        "a = np.random.randint(0,666,(4,4))\n",
        "a"
      ],
      "metadata": {
        "colab": {
          "base_uri": "https://localhost:8080/"
        },
        "id": "eF6RoUsep7MQ",
        "outputId": "54728819-edea-4747-a85e-e73872f43a54"
      },
      "execution_count": null,
      "outputs": [
        {
          "output_type": "execute_result",
          "data": {
            "text/plain": [
              "array([[309, 548, 105, 638],\n",
              "       [490,  86, 201, 550],\n",
              "       [323, 148, 170, 661],\n",
              "       [450, 104, 117, 238]])"
            ]
          },
          "metadata": {},
          "execution_count": 247
        }
      ]
    },
    {
      "cell_type": "code",
      "source": [
        "a = np.radians(a)# convert angles from degrees to radians\n",
        "b = np.degrees(a)# convert angles from radians to degrees\n",
        "print('Radians', a)\n",
        "print('Degrees',b)"
      ],
      "metadata": {
        "colab": {
          "base_uri": "https://localhost:8080/"
        },
        "id": "BKLaQkTGqIzs",
        "outputId": "78004b0c-b924-4906-c70e-f8935f91ee36"
      },
      "execution_count": null,
      "outputs": [
        {
          "output_type": "stream",
          "name": "stdout",
          "text": [
            "Radians [[ 5.39306739  9.5644043   1.83259571 11.13520063]\n",
            " [ 8.55211333  1.50098316  3.5081118   9.59931089]\n",
            " [ 5.63741348  2.58308729  2.96705973 11.53662636]\n",
            " [ 7.85398163  1.81514242  2.04203522  4.15388362]]\n",
            "Degrees [[309. 548. 105. 638.]\n",
            " [490.  86. 201. 550.]\n",
            " [323. 148. 170. 661.]\n",
            " [450. 104. 117. 238.]]\n"
          ]
        }
      ]
    },
    {
      "cell_type": "code",
      "source": [
        "print('Tan', np.tan(a))\n",
        "print('Cos', np.cos(a))\n",
        "print('Sin', np.sin(a))"
      ],
      "metadata": {
        "colab": {
          "base_uri": "https://localhost:8080/"
        },
        "id": "t-BINOBzq-tK",
        "outputId": "befb762c-4e12-4825-ab6d-4bc55ca58144"
      },
      "execution_count": null,
      "outputs": [
        {
          "output_type": "stream",
          "name": "stdout",
          "text": [
            "Tan [[-1.23489716e+00  1.40540835e-01 -3.73205081e+00 -7.11536972e+00]\n",
            " [-1.19175359e+00  1.43006663e+01  3.83864035e-01  1.76326981e-01]\n",
            " [-7.53554050e-01 -6.24869352e-01 -1.76326981e-01 -1.66427948e+00]\n",
            " [ 3.26624787e+15 -4.01078093e+00 -1.96261051e+00  1.60033453e+00]]\n",
            "Cos [[ 6.29320391e-01 -9.90268069e-01 -2.58819045e-01  1.39173101e-01]\n",
            " [-6.42787610e-01  6.97564737e-02 -9.33580426e-01 -9.84807753e-01]\n",
            " [ 7.98635510e-01 -8.48048096e-01 -9.84807753e-01  5.15038075e-01]\n",
            " [ 3.06161700e-16 -2.41921896e-01 -4.53990500e-01 -5.29919264e-01]]\n",
            "Sin [[-0.77714596 -0.1391731   0.96592583 -0.99026807]\n",
            " [ 0.76604444  0.99756405 -0.35836795 -0.17364818]\n",
            " [-0.60181502  0.52991926  0.17364818 -0.8571673 ]\n",
            " [ 1.          0.97029573  0.89100652 -0.8480481 ]]\n"
          ]
        }
      ]
    },
    {
      "cell_type": "markdown",
      "source": [
        "## Rounding"
      ],
      "metadata": {
        "id": "cZWoE_Ywrz_C"
      }
    },
    {
      "cell_type": "code",
      "source": [
        "print('Round \\n',np.round(np.tan(a),5)) #rounds the data of a matrix to the given number of decimals"
      ],
      "metadata": {
        "colab": {
          "base_uri": "https://localhost:8080/"
        },
        "id": "y4F49GeVr480",
        "outputId": "0882cc65-29c6-4990-c047-f6bbc555162f"
      },
      "execution_count": null,
      "outputs": [
        {
          "output_type": "stream",
          "name": "stdout",
          "text": [
            "Round \n",
            " [[-1.23490000e+00  1.40540000e-01 -3.73205000e+00 -7.11537000e+00]\n",
            " [-1.19175000e+00  1.43006700e+01  3.83860000e-01  1.76330000e-01]\n",
            " [-7.53550000e-01 -6.24870000e-01 -1.76330000e-01 -1.66428000e+00]\n",
            " [ 3.26624787e+15 -4.01078000e+00 -1.96261000e+00  1.60033000e+00]]\n"
          ]
        }
      ]
    },
    {
      "cell_type": "code",
      "source": [
        "print('Rind \\n',np.rint(np.cos(a))) # rounds the data to the next whole number"
      ],
      "metadata": {
        "colab": {
          "base_uri": "https://localhost:8080/"
        },
        "id": "prgy9kd-s2qQ",
        "outputId": "216cd64e-3bba-47ae-c948-232938e37e6c"
      },
      "execution_count": null,
      "outputs": [
        {
          "output_type": "stream",
          "name": "stdout",
          "text": [
            "Rind \n",
            " [[ 1. -1. -0.  0.]\n",
            " [-1.  0. -1. -1.]\n",
            " [ 1. -1. -1.  1.]\n",
            " [ 0. -0. -0. -1.]]\n"
          ]
        }
      ]
    },
    {
      "cell_type": "code",
      "source": [
        "print('Floor \\n', np.floor(np.cos(a)))# returns the \"floor\" or the directly lesser integer"
      ],
      "metadata": {
        "colab": {
          "base_uri": "https://localhost:8080/"
        },
        "id": "CYlgrdh3tei7",
        "outputId": "6f7aac5c-b933-42eb-d5a4-90eeb3554ba8"
      },
      "execution_count": null,
      "outputs": [
        {
          "output_type": "stream",
          "name": "stdout",
          "text": [
            "Floor \n",
            " [[ 0. -1. -1.  0.]\n",
            " [-1.  0. -1. -1.]\n",
            " [ 0. -1. -1.  0.]\n",
            " [ 0. -1. -1. -1.]]\n"
          ]
        }
      ]
    },
    {
      "cell_type": "code",
      "source": [
        "print('Ceil \\n', np.ceil(np.cos(a))) # Returns the \"Ceil\" or the directly greater integer"
      ],
      "metadata": {
        "colab": {
          "base_uri": "https://localhost:8080/"
        },
        "id": "kx17wUP8vYf5",
        "outputId": "e4199c31-2b2c-4ffe-aabc-9a69feed240c"
      },
      "execution_count": null,
      "outputs": [
        {
          "output_type": "stream",
          "name": "stdout",
          "text": [
            "Ceil \n",
            " [[ 1. -0. -0.  1.]\n",
            " [-0.  1. -0. -0.]\n",
            " [ 1. -0. -0.  1.]\n",
            " [ 1. -0. -0. -0.]]\n"
          ]
        }
      ]
    },
    {
      "cell_type": "code",
      "source": [
        "print(np.cos(a),'\\n Trunc \\n', np.trunc(np.cos(a))) #returns integers, omitting decimals "
      ],
      "metadata": {
        "colab": {
          "base_uri": "https://localhost:8080/"
        },
        "id": "wUcBiqU-v13I",
        "outputId": "3497dea4-ebc2-4e9f-960a-c8996259d1e6"
      },
      "execution_count": null,
      "outputs": [
        {
          "output_type": "stream",
          "name": "stdout",
          "text": [
            "[[ 6.29320391e-01 -9.90268069e-01 -2.58819045e-01  1.39173101e-01]\n",
            " [-6.42787610e-01  6.97564737e-02 -9.33580426e-01 -9.84807753e-01]\n",
            " [ 7.98635510e-01 -8.48048096e-01 -9.84807753e-01  5.15038075e-01]\n",
            " [ 3.06161700e-16 -2.41921896e-01 -4.53990500e-01 -5.29919264e-01]] \n",
            " Trunc \n",
            " [[ 0. -0. -0.  0.]\n",
            " [-0.  0. -0. -0.]\n",
            " [ 0. -0. -0.  0.]\n",
            " [ 0. -0. -0. -0.]]\n"
          ]
        }
      ]
    },
    {
      "cell_type": "markdown",
      "source": [
        "## Additions, products and differences"
      ],
      "metadata": {
        "id": "rvSWnyRkxS5v"
      }
    },
    {
      "cell_type": "code",
      "source": [
        "print(\"Add rows \\n\", np.sum(a, axis = 1))#adds the elements of a matrix by rows\n",
        "print(\"Add columns \\n\", np.sum(a, axis = 0))#adds the elements of a matrix by columns"
      ],
      "metadata": {
        "colab": {
          "base_uri": "https://localhost:8080/"
        },
        "id": "9MzWQ6JlxRw2",
        "outputId": "f4f3fe4e-adbe-4a9d-ec98-e998c676aede"
      },
      "execution_count": null,
      "outputs": [
        {
          "output_type": "stream",
          "name": "stdout",
          "text": [
            "Add rows \n",
            " [27.92526803 23.16051917 22.72418686 15.8650429 ]\n",
            "Add columns \n",
            " [27.43657584 15.46361717 10.34980246 36.42502149]\n"
          ]
        }
      ]
    },
    {
      "cell_type": "code",
      "source": [
        "print('Nanprod \\n', np.nanprod(a,0) )#returns the product of the elements of the matrix on a given axis"
      ],
      "metadata": {
        "colab": {
          "base_uri": "https://localhost:8080/"
        },
        "id": "TY5zb1NCyIkK",
        "outputId": "102cbcbc-cae1-47cf-fc85-520de0a97d76"
      },
      "execution_count": null,
      "outputs": [
        {
          "output_type": "stream",
          "name": "stdout",
          "text": [
            "Nanprod \n",
            " [2042.10968918   67.31061131   38.95198641 5122.37365416]\n"
          ]
        }
      ]
    },
    {
      "cell_type": "code",
      "source": [
        "n = np.random.randint(0,10,(1,10))\n",
        "print(n,'\\n Diff \\n', np.diff(n, axis=1))#calculates the n-th discrete difference along the given axis "
      ],
      "metadata": {
        "colab": {
          "base_uri": "https://localhost:8080/"
        },
        "id": "-W3UcBjeyiTw",
        "outputId": "35f7468f-9ce5-4802-88e4-880df30dc7d0"
      },
      "execution_count": null,
      "outputs": [
        {
          "output_type": "stream",
          "name": "stdout",
          "text": [
            "[[7 9 3 2 5 3 3 0 5 4]] \n",
            " Diff \n",
            " [[ 2 -6 -1  3 -2  0 -3  5 -1]]\n"
          ]
        }
      ]
    },
    {
      "cell_type": "code",
      "source": [
        "n = np.array([0,1,2,3,4])\n",
        "n = n**2\n",
        "print('Gradient \\n', np.gradient(n, edge_order = 1))#Return the gradient of a n-dimentional matrix"
      ],
      "metadata": {
        "colab": {
          "base_uri": "https://localhost:8080/"
        },
        "id": "orozJXGTy4NN",
        "outputId": "2c6459f0-e1ab-42d9-b9f1-24c9155fb9f1"
      },
      "execution_count": null,
      "outputs": [
        {
          "output_type": "stream",
          "name": "stdout",
          "text": [
            "Gradient \n",
            " [1. 2. 4. 6. 7.]\n"
          ]
        }
      ]
    },
    {
      "cell_type": "code",
      "source": [
        "a = [1,2,3]\n",
        "b = [9,7,8]\n",
        "print('Cross \\n', np.cross(a,b))#cross product of vectors"
      ],
      "metadata": {
        "colab": {
          "base_uri": "https://localhost:8080/"
        },
        "id": "JQZ5pK2G0HL8",
        "outputId": "4a32b85b-6c3c-4c54-c963-c6b87692726b"
      },
      "execution_count": null,
      "outputs": [
        {
          "output_type": "stream",
          "name": "stdout",
          "text": [
            "Cross \n",
            " [ -5  19 -11]\n"
          ]
        }
      ]
    },
    {
      "cell_type": "code",
      "source": [
        "a = ([[1,2,3],[6,5,4]])\n",
        "b = ([[9,7,8],[3,2,1]])\n",
        "print('Cross \\n', np.cross(a,b))#cross product of vectors"
      ],
      "metadata": {
        "colab": {
          "base_uri": "https://localhost:8080/"
        },
        "id": "sqSnFqJR0dgK",
        "outputId": "17f05095-ff73-4b0c-c79c-2b529a380a30"
      },
      "execution_count": null,
      "outputs": [
        {
          "output_type": "stream",
          "name": "stdout",
          "text": [
            "Cross \n",
            " [[ -5  19 -11]\n",
            " [ -3   6  -3]]\n"
          ]
        }
      ]
    },
    {
      "cell_type": "code",
      "source": [
        "a = np.arange(6).reshape(2,3)\n",
        "print('Trapz \\n', np.trapz(a, axis = 0))\n",
        "print('Trapz \\n', np.trapz(a, axis = 1))"
      ],
      "metadata": {
        "colab": {
          "base_uri": "https://localhost:8080/"
        },
        "id": "mgHbKEFl08ni",
        "outputId": "390177da-838e-4f3b-d935-d4e0b3f5875c"
      },
      "execution_count": null,
      "outputs": [
        {
          "output_type": "stream",
          "name": "stdout",
          "text": [
            "Trapz \n",
            " [1.5 2.5 3.5]\n",
            "Trapz \n",
            " [2. 8.]\n"
          ]
        }
      ]
    },
    {
      "cell_type": "markdown",
      "source": [
        "## Exp and log"
      ],
      "metadata": {
        "id": "VtLlEX7r1hoN"
      }
    },
    {
      "cell_type": "code",
      "source": [
        "x = np.arange(16).reshape(4,4)\n",
        "print('Exp \\n', np.exp(x))"
      ],
      "metadata": {
        "colab": {
          "base_uri": "https://localhost:8080/"
        },
        "id": "r-w_rgvV126t",
        "outputId": "970afce5-5c04-414c-ab7b-c41f2c429bd5"
      },
      "execution_count": null,
      "outputs": [
        {
          "output_type": "stream",
          "name": "stdout",
          "text": [
            "Exp \n",
            " [[1.00000000e+00 2.71828183e+00 7.38905610e+00 2.00855369e+01]\n",
            " [5.45981500e+01 1.48413159e+02 4.03428793e+02 1.09663316e+03]\n",
            " [2.98095799e+03 8.10308393e+03 2.20264658e+04 5.98741417e+04]\n",
            " [1.62754791e+05 4.42413392e+05 1.20260428e+06 3.26901737e+06]]\n"
          ]
        }
      ]
    },
    {
      "cell_type": "code",
      "source": [
        "print(\"Exp2 \\n\", np.exp2(x))"
      ],
      "metadata": {
        "colab": {
          "base_uri": "https://localhost:8080/"
        },
        "id": "n-KDWoVp2dpa",
        "outputId": "9b5f8184-fe98-409e-9e89-67ca37246b14"
      },
      "execution_count": null,
      "outputs": [
        {
          "output_type": "stream",
          "name": "stdout",
          "text": [
            "Exp2 \n",
            " [[1.0000e+00 2.0000e+00 4.0000e+00 8.0000e+00]\n",
            " [1.6000e+01 3.2000e+01 6.4000e+01 1.2800e+02]\n",
            " [2.5600e+02 5.1200e+02 1.0240e+03 2.0480e+03]\n",
            " [4.0960e+03 8.1920e+03 1.6384e+04 3.2768e+04]]\n"
          ]
        }
      ]
    },
    {
      "cell_type": "code",
      "source": [
        "print('Log \\n', np.log(x))# log"
      ],
      "metadata": {
        "colab": {
          "base_uri": "https://localhost:8080/"
        },
        "id": "kiTl2u8g2wA3",
        "outputId": "c1741b9f-bc8a-4364-8ad5-5dfd735f81b4"
      },
      "execution_count": null,
      "outputs": [
        {
          "output_type": "stream",
          "name": "stdout",
          "text": [
            "Log \n",
            " [[      -inf 0.         0.69314718 1.09861229]\n",
            " [1.38629436 1.60943791 1.79175947 1.94591015]\n",
            " [2.07944154 2.19722458 2.30258509 2.39789527]\n",
            " [2.48490665 2.56494936 2.63905733 2.7080502 ]]\n"
          ]
        },
        {
          "output_type": "stream",
          "name": "stderr",
          "text": [
            "/usr/local/lib/python3.7/dist-packages/ipykernel_launcher.py:1: RuntimeWarning: divide by zero encountered in log\n",
            "  \"\"\"Entry point for launching an IPython kernel.\n"
          ]
        }
      ]
    },
    {
      "cell_type": "code",
      "source": [
        "print('Log10 \\n', np.log10(x))# log10"
      ],
      "metadata": {
        "colab": {
          "base_uri": "https://localhost:8080/"
        },
        "id": "nvvGT02I26ak",
        "outputId": "a8948611-f176-425d-8f8f-a2132b2b824d"
      },
      "execution_count": null,
      "outputs": [
        {
          "output_type": "stream",
          "name": "stdout",
          "text": [
            "Log10 \n",
            " [[      -inf 0.         0.30103    0.47712125]\n",
            " [0.60205999 0.69897    0.77815125 0.84509804]\n",
            " [0.90308999 0.95424251 1.         1.04139269]\n",
            " [1.07918125 1.11394335 1.14612804 1.17609126]]\n"
          ]
        },
        {
          "output_type": "stream",
          "name": "stderr",
          "text": [
            "/usr/local/lib/python3.7/dist-packages/ipykernel_launcher.py:1: RuntimeWarning: divide by zero encountered in log10\n",
            "  \"\"\"Entry point for launching an IPython kernel.\n"
          ]
        }
      ]
    },
    {
      "cell_type": "markdown",
      "source": [
        "## Linear algebra"
      ],
      "metadata": {
        "id": "TTS2UURM3CRg"
      }
    },
    {
      "cell_type": "code",
      "source": [
        "a = np.arange(16).reshape(4,4)\n",
        "b = np.arange(16).reshape(4,4)\n",
        "c = np.arange(4).reshape(4,1)\n",
        "print(' a = \\n', a, '\\n b = \\n', b, '\\n c = \\n',c)"
      ],
      "metadata": {
        "colab": {
          "base_uri": "https://localhost:8080/"
        },
        "id": "_4EtYKvb3I2o",
        "outputId": "010cdb7f-42f8-4bba-94d1-180ce4a842cc"
      },
      "execution_count": null,
      "outputs": [
        {
          "output_type": "stream",
          "name": "stdout",
          "text": [
            " a = \n",
            " [[ 0  1  2  3]\n",
            " [ 4  5  6  7]\n",
            " [ 8  9 10 11]\n",
            " [12 13 14 15]] \n",
            " b = \n",
            " [[ 0  1  2  3]\n",
            " [ 4  5  6  7]\n",
            " [ 8  9 10 11]\n",
            " [12 13 14 15]] \n",
            " c = \n",
            " [[0]\n",
            " [1]\n",
            " [2]\n",
            " [3]]\n"
          ]
        }
      ]
    },
    {
      "cell_type": "code",
      "source": [
        "print('Product point \\n', np.dot(a,b))#product point"
      ],
      "metadata": {
        "colab": {
          "base_uri": "https://localhost:8080/"
        },
        "id": "oMsP0jod4Wrf",
        "outputId": "acf88978-be6f-44a9-8af6-8337bf65c218"
      },
      "execution_count": null,
      "outputs": [
        {
          "output_type": "stream",
          "name": "stdout",
          "text": [
            "Product point \n",
            " [[ 56  62  68  74]\n",
            " [152 174 196 218]\n",
            " [248 286 324 362]\n",
            " [344 398 452 506]]\n"
          ]
        }
      ]
    },
    {
      "cell_type": "code",
      "source": [
        "a = np.arange(24).reshape((2,3,4))\n",
        "b = np.arange(4)\n",
        "c = np.inner(a,b) #Internal product\n",
        "print(c.shape, 'Internal product \\n', c)"
      ],
      "metadata": {
        "colab": {
          "base_uri": "https://localhost:8080/"
        },
        "id": "TShh-3PF4pLC",
        "outputId": "6b5f4bb3-8cb5-4621-a3a3-7a8e32a4b942"
      },
      "execution_count": null,
      "outputs": [
        {
          "output_type": "stream",
          "name": "stdout",
          "text": [
            "(2, 3) Internal product \n",
            " [[ 14  38  62]\n",
            " [ 86 110 134]]\n"
          ]
        }
      ]
    },
    {
      "cell_type": "code",
      "source": [
        "print(np.linalg.matrix_power(x,2))#eleva una matriz cuadrada a la potencia n"
      ],
      "metadata": {
        "colab": {
          "base_uri": "https://localhost:8080/"
        },
        "id": "SKtcYZ8q6xyJ",
        "outputId": "05b1bb3d-a581-44e0-ca2a-5b1acbb5b5b4"
      },
      "execution_count": null,
      "outputs": [
        {
          "output_type": "stream",
          "name": "stdout",
          "text": [
            "[[ 56  62  68  74]\n",
            " [152 174 196 218]\n",
            " [248 286 324 362]\n",
            " [344 398 452 506]]\n"
          ]
        }
      ]
    },
    {
      "cell_type": "code",
      "source": [
        "val, vec = np.linalg.eig(x)#eigen valors and vectors\n",
        "print('Eigen valors: \\n', np.round_(val,2))\n",
        "print('Eigen vectors: \\n', np.round_(vec,2))"
      ],
      "metadata": {
        "colab": {
          "base_uri": "https://localhost:8080/"
        },
        "id": "b1stAn-Z7Jjx",
        "outputId": "43d20bf6-2611-4090-abd2-d93e30f3b36c"
      },
      "execution_count": null,
      "outputs": [
        {
          "output_type": "stream",
          "name": "stdout",
          "text": [
            "Eigen valors: \n",
            " [32.46 -2.46  0.   -0.  ]\n",
            "Eigen vectors: \n",
            " [[-0.11  0.73 -0.4   0.06]\n",
            " [-0.33  0.29  0.81  0.33]\n",
            " [-0.55 -0.15 -0.42 -0.83]\n",
            " [-0.76 -0.6   0.01  0.44]]\n"
          ]
        }
      ]
    },
    {
      "cell_type": "markdown",
      "source": [
        "##Statistics"
      ],
      "metadata": {
        "id": "cYGZwzpz76Q0"
      }
    },
    {
      "cell_type": "code",
      "source": [
        "print(np.amax(x,1),np.amin(x,0))"
      ],
      "metadata": {
        "colab": {
          "base_uri": "https://localhost:8080/"
        },
        "id": "Y0cXW-oZ8DCL",
        "outputId": "7c07b794-7060-45d1-bf8a-3a5ed2d9faf5"
      },
      "execution_count": null,
      "outputs": [
        {
          "output_type": "stream",
          "name": "stdout",
          "text": [
            "[ 3  7 11 15] [0 1 2 3]\n"
          ]
        }
      ]
    },
    {
      "cell_type": "code",
      "source": [
        "print('matrix range xmax-xmin \\n',np.ptp(x))"
      ],
      "metadata": {
        "colab": {
          "base_uri": "https://localhost:8080/"
        },
        "id": "-DFOnfZs8qt6",
        "outputId": "0c4616fe-48ab-41e3-e8b1-ad02c59c9811"
      },
      "execution_count": null,
      "outputs": [
        {
          "output_type": "stream",
          "name": "stdout",
          "text": [
            "matrix range xmax-xmin \n",
            " 15\n"
          ]
        }
      ]
    },
    {
      "cell_type": "code",
      "source": [
        "print('range for rows: \\n', np.ptp(x,1))"
      ],
      "metadata": {
        "colab": {
          "base_uri": "https://localhost:8080/"
        },
        "id": "5Pu5qjIP88a_",
        "outputId": "6dab3a92-c250-4b4b-fb4f-9adc48ab2950"
      },
      "execution_count": null,
      "outputs": [
        {
          "output_type": "stream",
          "name": "stdout",
          "text": [
            "range for rows: \n",
            " [3 3 3 3]\n"
          ]
        }
      ]
    },
    {
      "cell_type": "code",
      "source": [
        "print('Percentile q-th \\n', np.percentile(x,50))"
      ],
      "metadata": {
        "colab": {
          "base_uri": "https://localhost:8080/"
        },
        "id": "kNbDe7js9JlO",
        "outputId": "75432735-2095-468f-d1b8-5e396c41989a"
      },
      "execution_count": null,
      "outputs": [
        {
          "output_type": "stream",
          "name": "stdout",
          "text": [
            "Percentile q-th \n",
            " 7.5\n"
          ]
        }
      ]
    },
    {
      "cell_type": "code",
      "source": [
        "print('Percentile q-th for rows \\n', np.percentile(x,50,1))\n",
        "print('Percentile q-th for columns \\n', np.percentile(x,50, 0))"
      ],
      "metadata": {
        "colab": {
          "base_uri": "https://localhost:8080/"
        },
        "id": "XQOw1gfc9Tf7",
        "outputId": "37e789c7-9d3a-40bd-d4bf-ac38e19b8c2f"
      },
      "execution_count": null,
      "outputs": [
        {
          "output_type": "stream",
          "name": "stdout",
          "text": [
            "Percentile q-th for rows \n",
            " [ 1.5  5.5  9.5 13.5]\n",
            "Percentile q-th for columns \n",
            " [6. 7. 8. 9.]\n"
          ]
        }
      ]
    },
    {
      "cell_type": "code",
      "source": [
        "print('Quantile q-th for columns \\n', np.quantile(x,0.5,0))\n",
        "print('Quantile q-th for rows \\n', np.quantile(x,0.5,1))"
      ],
      "metadata": {
        "colab": {
          "base_uri": "https://localhost:8080/"
        },
        "id": "21hleQID9ixv",
        "outputId": "2edc3723-03d4-4175-8d4d-24b88ce859eb"
      },
      "execution_count": null,
      "outputs": [
        {
          "output_type": "stream",
          "name": "stdout",
          "text": [
            "Quantile q-th for columns \n",
            " [6. 7. 8. 9.]\n",
            "Quantile q-th for rows \n",
            " [ 1.5  5.5  9.5 13.5]\n"
          ]
        }
      ]
    },
    {
      "cell_type": "code",
      "source": [
        "print('Median for rows \\n', np.median(x,1))\n",
        "print('Mean for row 1 \\n', np.median(x[1,:]))\n",
        "print('Standart desviation \\n', np.std(x))\n",
        "print('Variance \\n', np.var(x))"
      ],
      "metadata": {
        "colab": {
          "base_uri": "https://localhost:8080/"
        },
        "id": "McfDB5Qg9-vz",
        "outputId": "4d9a712d-356e-411d-8c66-537094d9c908"
      },
      "execution_count": null,
      "outputs": [
        {
          "output_type": "stream",
          "name": "stdout",
          "text": [
            "Median for rows \n",
            " [ 1.5  5.5  9.5 13.5]\n",
            "Mean for row 1 \n",
            " 5.5\n",
            "Standart desviation \n",
            " 4.6097722286464435\n",
            "Variance \n",
            " 21.25\n"
          ]
        }
      ]
    },
    {
      "cell_type": "code",
      "source": [
        "X = np.random.randint(0,10, (4,4))\n",
        "print(x)\n",
        "print('\\ncorrelation coefficient \\n', np.corrcoef(x))"
      ],
      "metadata": {
        "colab": {
          "base_uri": "https://localhost:8080/"
        },
        "id": "W1KV_N5x-s9K",
        "outputId": "c1e7cc55-3612-44ee-c525-4930adf47f32"
      },
      "execution_count": null,
      "outputs": [
        {
          "output_type": "stream",
          "name": "stdout",
          "text": [
            "[[ 0  1  2  3]\n",
            " [ 4  5  6  7]\n",
            " [ 8  9 10 11]\n",
            " [12 13 14 15]]\n",
            "\n",
            "correlation coefficient \n",
            " [[1. 1. 1. 1.]\n",
            " [1. 1. 1. 1.]\n",
            " [1. 1. 1. 1.]\n",
            " [1. 1. 1. 1.]]\n"
          ]
        }
      ]
    },
    {
      "cell_type": "code",
      "source": [
        "print('Cross-Correlation \\n',np.correlate([1, 2, 3], [0, 1, 0.5]))#cross-correlation\n"
      ],
      "metadata": {
        "colab": {
          "base_uri": "https://localhost:8080/"
        },
        "id": "ryV358IL_Yjv",
        "outputId": "cd5571b0-c203-47c5-9ee1-95b76b2da100"
      },
      "execution_count": null,
      "outputs": [
        {
          "output_type": "stream",
          "name": "stdout",
          "text": [
            "Cross-Correlation \n",
            " [3.5]\n"
          ]
        }
      ]
    },
    {
      "cell_type": "code",
      "source": [
        "x = [-2.1, -1,  4.3]\n",
        "y = [3,  1.1,  0.12]\n",
        "X = np.stack((x, y), axis=0)\n",
        "print('Covariance\\n',np.cov(X)) #AMtriz de covarianza"
      ],
      "metadata": {
        "colab": {
          "base_uri": "https://localhost:8080/"
        },
        "id": "pPo1WDyY_q_L",
        "outputId": "04389529-3b2d-4f45-ad2e-a14e9494dea5"
      },
      "execution_count": null,
      "outputs": [
        {
          "output_type": "stream",
          "name": "stdout",
          "text": [
            "Covariance\n",
            " [[11.71       -4.286     ]\n",
            " [-4.286       2.14413333]]\n"
          ]
        }
      ]
    },
    {
      "cell_type": "markdown",
      "source": [
        "### Histograms"
      ],
      "metadata": {
        "id": "ycBJARgB_3Rm"
      }
    },
    {
      "cell_type": "code",
      "source": [
        "a = np.random.randint(0,10, (4,4)) \n",
        "hist, bin_edges = np.histogram(a, density=True)\n",
        "print(hist,\"\\n\", bin_edges)\n",
        "plt.hist(a[0,:])"
      ],
      "metadata": {
        "colab": {
          "base_uri": "https://localhost:8080/",
          "height": 369
        },
        "id": "pfyqpQ1J_5Jx",
        "outputId": "2f5a86b5-8043-4324-a1c3-05c77f8812de"
      },
      "execution_count": null,
      "outputs": [
        {
          "output_type": "stream",
          "name": "stdout",
          "text": [
            "[0.06944444 0.06944444 0.         0.06944444 0.06944444 0.06944444\n",
            " 0.06944444 0.27777778 0.13888889 0.27777778] \n",
            " [0.  0.9 1.8 2.7 3.6 4.5 5.4 6.3 7.2 8.1 9. ]\n"
          ]
        },
        {
          "output_type": "execute_result",
          "data": {
            "text/plain": [
              "(array([1., 0., 0., 1., 0., 0., 1., 0., 0., 1.]),\n",
              " array([6. , 6.3, 6.6, 6.9, 7.2, 7.5, 7.8, 8.1, 8.4, 8.7, 9. ]),\n",
              " <a list of 10 Patch objects>)"
            ]
          },
          "metadata": {},
          "execution_count": 281
        },
        {
          "output_type": "display_data",
          "data": {
            "text/plain": [
              "<Figure size 432x288 with 1 Axes>"
            ],
            "image/png": "[encoded data removed]"
          },
          "metadata": {
            "needs_background": "light"
          }
        }
      ]
    },
    {
      "cell_type": "markdown",
      "source": [
        "#2.Kernel"
      ],
      "metadata": {
        "id": "_KQKiw_-AW20"
      }
    },
    {
      "cell_type": "markdown",
      "source": [
        "##2.1 Lineal kernel\n",
        "\n",
        "  $k(x,y) = x^T*y+c$, \n",
        " \n",
        " where $x,y \\in \\mathbb{R}^P; c \\in \\mathbb{R} \\}$"
      ],
      "metadata": {
        "id": "U__gNACvAf4s"
      }
    },
    {
      "cell_type": "code",
      "source": [
        "#with samples\n",
        "x = np.asarray([1, 4.5, 0.8, 5.7, 4.2])     #R{P} 1 Dim, P elements\n",
        "y = np.asarray([0.5, 2.5, 3.8, -5.7, -2.2]) #R{P}  1 Dim, P elements\n",
        " \n",
        "c = 6                                       #Scalar in R\n",
        "\n",
        "xT= np.transpose(x)           #R{P} 1 Dim, P elements\n",
        "dot = np.dot(xT, y)           #Scalar in R\n",
        "\n",
        "print(dot + c )                  #Scalar in R"
      ],
      "metadata": {
        "colab": {
          "base_uri": "https://localhost:8080/"
        },
        "id": "awdCNLlPAK5G",
        "outputId": "c69ebec3-815d-4522-a595-7404cd251b89"
      },
      "execution_count": null,
      "outputs": [
        {
          "output_type": "stream",
          "name": "stdout",
          "text": [
            "-20.940000000000005\n"
          ]
        }
      ]
    },
    {
      "cell_type": "markdown",
      "source": [
        "With sample pairs of sample sets $X, Y \\in \\mathbb{R}^{N \\times P}$"
      ],
      "metadata": {
        "id": "-A2qGvzSBHua"
      }
    },
    {
      "cell_type": "code",
      "source": [
        "#with data sets\n",
        "N = 5\n",
        "P = 5\n",
        "\n",
        "X = np.random.randn(N,P) #R{NxP} 2 Dim, Nxp Elements\n",
        "Y = np.random.randn(N,P) #R{NxP}    \"           \"\n",
        "\n",
        "OUT = np.zeros((N,N))    #R{NxP}  2 Dim, Nxp Elements\n",
        "\n",
        "for i in range(N):\n",
        "  XT = np.transpose(X[i, ...])   #R{PxN}  2 Dim, Nxp Elements\n",
        "  dot = np.dot(XT, Y)           #R{P}\n",
        "  k = dot + c                   #R\n",
        "  k\n",
        "  OUT[i, ...] = k\n",
        "print(OUT)"
      ],
      "metadata": {
        "colab": {
          "base_uri": "https://localhost:8080/"
        },
        "id": "-TZ49lXTBL8V",
        "outputId": "53df7fa5-c982-4546-ebda-ee128784cccc"
      },
      "execution_count": null,
      "outputs": [
        {
          "output_type": "stream",
          "name": "stdout",
          "text": [
            "[[10.6586179   4.07954555  5.19508007  5.30041323  6.94234715]\n",
            " [ 6.91596585  6.07968718  1.8707768   7.9001922   9.15570821]\n",
            " [ 4.32020903  4.92461306  8.82365588  3.65274901  3.50540561]\n",
            " [ 2.44184336  3.24112333  5.07857902  2.75044802  6.2372981 ]\n",
            " [11.11268883  6.95722037  5.71357296  8.07806407  6.71512937]]\n"
          ]
        }
      ]
    },
    {
      "cell_type": "markdown",
      "source": [
        "##2.2  Polynomial kernel\n",
        "\n",
        "  $k(x,y) = (\\alpha*x^T*y+c)^d$, \n",
        " \n",
        " where $x,y \\in \\mathbb{R}^P; c, d \\in \\mathbb{R} \\}$"
      ],
      "metadata": {
        "id": "EtcIRgO8BhTy"
      }
    },
    {
      "cell_type": "code",
      "source": [
        "#with samples\n",
        "x = np.asarray([1, 4.5, 0.8, 5.7, 4.2])     #R{P} 1 Dim, P elements\n",
        "y = np.asarray([0.5, 2.5, 3.8, -5.7, -2.2]) #R{P}  1 Dim, P elements\n",
        " \n",
        "c = 6         #Scalar in R\n",
        "d = 2         #Scalar in R\n",
        "a = 3         #Scalar in R\n",
        "\n",
        "xT= np.transpose(x)           #R{P} 1 Dim, P elements\n",
        "axT= a*xT                     #R{P} 1 Dim, P elements\n",
        "axTy= np.dot(axT, y)             #Scalar in R\n",
        "k = (axTy + c)**d                #Scalar in R\n",
        "k"
      ],
      "metadata": {
        "colab": {
          "base_uri": "https://localhost:8080/"
        },
        "id": "scnd_f-gBoq6",
        "outputId": "d3b1f6c8-8cdb-4aac-d9af-d94ffa88fb3f"
      },
      "execution_count": null,
      "outputs": [
        {
          "output_type": "execute_result",
          "data": {
            "text/plain": [
              "5598.032400000003"
            ]
          },
          "metadata": {},
          "execution_count": 284
        }
      ]
    },
    {
      "cell_type": "markdown",
      "source": [
        "With sample pairs of sample sets $X, Y \\in \\mathbb{R}^{N \\times P}$"
      ],
      "metadata": {
        "id": "AdWCi7PwBwOE"
      }
    },
    {
      "cell_type": "code",
      "source": [
        "#with data sets\n",
        "N = 5\n",
        "P = 5\n",
        "\n",
        "X = np.random.randn(N,P) #R{NxP} 2 Dim, Nxp Elements\n",
        "Y = np.random.randn(N,P) #R{NxP}    \"           \"\n",
        "c = 6         #Scalar in R\n",
        "d = 2         #Scalar in R\n",
        "a = 3         #Scalar in R\n",
        "\n",
        "OUT = np.zeros((N,N))    #R{NxP}  2 Dim, Nxp Elements\n",
        "\n",
        "\n",
        "for i in range(N):\n",
        "  XT = np.transpose(X[i, ...])   #R{PxN}  2 Dim, Nxp Elements\n",
        "  aXT= a*XT                     #R{P} 1 Dim, P elements\n",
        "  aXTY= np.dot(aXT, Y)             #Scalar in R\n",
        "  k = (aXTY + c)**d                #Scalar in R\n",
        "  OUT[i, ...] = k\n",
        "\n",
        "print(OUT)"
      ],
      "metadata": {
        "colab": {
          "base_uri": "https://localhost:8080/"
        },
        "id": "sdQyi9S_B32l",
        "outputId": "5d23e5da-3f8a-48e7-ceb1-cf81eb8d8559"
      },
      "execution_count": null,
      "outputs": [
        {
          "output_type": "stream",
          "name": "stdout",
          "text": [
            "[[1.11630639e+02 2.31139465e+02 3.95696723e-02 5.33274000e+00\n",
            "  3.53984004e+01]\n",
            " [3.83465325e+01 6.05313128e-01 5.56491666e+01 2.31106697e+02\n",
            "  1.96101834e+00]\n",
            " [1.20654520e+02 2.58933529e+02 1.31481762e+01 1.72878261e+02\n",
            "  2.18816695e+02]\n",
            " [7.67874375e+00 1.90002107e+01 2.79853223e+02 1.99485026e+02\n",
            "  1.09061369e+03]\n",
            " [2.26861735e+01 5.27460240e+01 5.84420788e+01 2.13795343e+01\n",
            "  1.20819312e+02]]\n"
          ]
        }
      ]
    },
    {
      "cell_type": "markdown",
      "source": [
        "##2.3 Gaussian kernel\n",
        "$k(x,y) = e^{\\big ( -\\frac{\\lVert x - y \\rVert_2^2}{2\\sigma^2} \\big)}$, where $x,y \\in \\mathbb{R}^P; \\sigma \\in \\{s \\in \\mathbb{R}^+ | s \\neq 0  \\}$"
      ],
      "metadata": {
        "id": "OGSblVEXCDB_"
      }
    },
    {
      "cell_type": "code",
      "source": [
        "#with samples\n",
        "x = np.asarray([1, 4.5, 0.8, 5.7, 4.2])\n",
        "y = np.asarray([0.5, 2.5, 3.8, -5.7, -2.2])\n",
        "sigma = 1e-1\n",
        "\n",
        "\n",
        "x_y = x - y  # 1dim p elemntos\n",
        "norm = np.linalg.norm(x_y, ord=2) #scalar\n",
        "norm = norm**2 #sca\n",
        "div = -1*(norm/(2*sigma**2)) #scarlar\n",
        "k = np.exp(div) #scalar\n",
        "k"
      ],
      "metadata": {
        "colab": {
          "base_uri": "https://localhost:8080/"
        },
        "id": "BKg0SYfqCOtF",
        "outputId": "8cd26712-99c0-48e2-f733-48d9d296831b"
      },
      "execution_count": null,
      "outputs": [
        {
          "output_type": "execute_result",
          "data": {
            "text/plain": [
              "0.0"
            ]
          },
          "metadata": {},
          "execution_count": 286
        }
      ]
    },
    {
      "cell_type": "markdown",
      "source": [
        "With sample pairs of sample sets $X, Y \\in \\mathbb{R}^{N \\times P}$"
      ],
      "metadata": {
        "id": "U2atubWbCbIj"
      }
    },
    {
      "cell_type": "code",
      "source": [
        "#with sata sets\n",
        "N = 5\n",
        "P = 5\n",
        "\n",
        "X = np.random.randn(N,P)\n",
        "Y = np.random.randn(N,P)\n",
        "\n",
        "OUT = np.zeros((N,N))\n",
        "\n",
        "for i in range(N):\n",
        "  resta = X[i,...] - Y # R{NXP}\n",
        "  norm = np.linalg.norm(resta, ord=2, axis=1) #R{N}\n",
        "  norm = norm**2 #R{N}\n",
        "  div = -1*(norm/(2*sigma**2)) #R{N}\n",
        "  k = np.exp(div) #R{N}\n",
        "  OUT[i, ...] = k\n",
        "\n",
        "print(OUT)"
      ],
      "metadata": {
        "colab": {
          "base_uri": "https://localhost:8080/"
        },
        "id": "y7zN52TaCbwp",
        "outputId": "cb6b223e-ad3a-4dae-8e9b-4c219c1e460a"
      },
      "execution_count": null,
      "outputs": [
        {
          "output_type": "stream",
          "name": "stdout",
          "text": [
            "[[1.70176323e-199 0.00000000e+000 2.04896667e-213 0.00000000e+000\n",
            "  2.41851885e-130]\n",
            " [0.00000000e+000 0.00000000e+000 0.00000000e+000 3.60227772e-271\n",
            "  0.00000000e+000]\n",
            " [1.31639530e-083 8.53515185e-060 7.20102578e-080 2.19339462e-098\n",
            "  0.00000000e+000]\n",
            " [1.15738836e-150 4.94168577e-077 4.24133692e-129 1.05200696e-173\n",
            "  0.00000000e+000]\n",
            " [4.54395883e-102 1.43362668e-142 2.47495937e-146 6.38936523e-148\n",
            "  0.00000000e+000]]\n"
          ]
        }
      ]
    },
    {
      "cell_type": "markdown",
      "source": [
        "##2.4 Exponential kernel \n",
        "$k(x,y) = e^{\\big ( -\\frac{\\lVert x - y \\rVert}{2\\sigma^2} \\big)}$, where $x, y \\in \\mathbb{R}^P; \\sigma \\in \\{s \\in \\mathbb{R}^+ | s \\neq 0  \\}$"
      ],
      "metadata": {
        "id": "qL9tZYzxCXI-"
      }
    },
    {
      "cell_type": "code",
      "source": [
        "#With samples\n",
        "x = np.asarray([1, 4.5, 0.8, 5.7, 4.2])\n",
        "y = np.asarray([0.5, 2.5, 3.8, -5.7, -2.2])\n",
        "sigma = 1e-1\n",
        "\n",
        "\n",
        "x_y = x - y  # 1dim p elemntos\n",
        "norm = np.linalg.norm(x_y, ord=2) #scalar\n",
        "\n",
        "div = -1*(norm/(2*sigma**2)) #scarlar\n",
        "k = np.exp(div) #scalar\n",
        "k"
      ],
      "metadata": {
        "colab": {
          "base_uri": "https://localhost:8080/"
        },
        "id": "1KdhqetjC6cc",
        "outputId": "de665dc1-b2e8-48a1-ec00-ab4d1276018d"
      },
      "execution_count": null,
      "outputs": [
        {
          "output_type": "execute_result",
          "data": {
            "text/plain": [
              "2.0469733739342733e-295"
            ]
          },
          "metadata": {},
          "execution_count": 288
        }
      ]
    },
    {
      "cell_type": "markdown",
      "source": [
        "With sample pairs of sample sets $X, Y \\in \\mathbb{R}^{N \\times P}$"
      ],
      "metadata": {
        "id": "Nvu3yv87C-Y5"
      }
    },
    {
      "cell_type": "code",
      "source": [
        "#with data sets\n",
        "N = 5\n",
        "P = 5\n",
        "sigma = 1e-1\n",
        "\n",
        "X = np.random.randn(N,P)\n",
        "Y = np.random.randn(N,P)\n",
        "\n",
        "OUT = np.zeros((N,N))\n",
        "\n",
        "for i in range(N):\n",
        "  resta = X[i,...] - Y # R{NXP}\n",
        "  norm = np.linalg.norm(resta, ord=2, axis=1) #R{N}\n",
        "  \n",
        "  div = -1*(norm/(2*sigma**2)) #R{N}\n",
        "  k = np.exp(div) #R{N}\n",
        "  OUT[i, ...] = k #R{NxN}\n",
        "\n",
        "print(OUT)"
      ],
      "metadata": {
        "colab": {
          "base_uri": "https://localhost:8080/"
        },
        "id": "VEAlpDEPDBrn",
        "outputId": "a543223e-2955-45cb-c91c-1212ea32c76d"
      },
      "execution_count": null,
      "outputs": [
        {
          "output_type": "stream",
          "name": "stdout",
          "text": [
            "[[1.24546534e-38 4.06474153e-48 2.05903957e-65 4.02359933e-73\n",
            "  5.26763555e-80]\n",
            " [1.47450893e-61 3.92658352e-41 7.77960904e-66 8.61029946e-59\n",
            "  7.68144294e-59]\n",
            " [4.18272954e-75 2.03879344e-53 8.49571455e-75 1.43083138e-50\n",
            "  2.33364055e-85]\n",
            " [2.93307354e-39 1.84104192e-60 7.24389084e-83 4.32916796e-88\n",
            "  2.24226264e-84]\n",
            " [6.38510512e-50 9.56298312e-49 6.82179198e-75 5.26296941e-82\n",
            "  6.17128577e-72]]\n"
          ]
        }
      ]
    },
    {
      "cell_type": "markdown",
      "source": [
        "##2.5 Laplacian kernel\n",
        "$k(x,y) =  e^{\\big ( -\\frac{\\lVert x - y \\rVert}{\\sigma} \\big)}$, where$x, y \\in \\mathbb{R}^P; \\sigma \\in \\{s \\in \\mathbb{R}^+ | s \\neq 0  \\}$"
      ],
      "metadata": {
        "id": "0yVruq8lDRKv"
      }
    },
    {
      "cell_type": "code",
      "source": [
        "#Con Muestras\n",
        "x = np.asarray([1, 4.5, 0.8, 5.7, 4.2])\n",
        "y = np.asarray([0.5, 2.5, 3.8, -5.7, -2.2])\n",
        "sigma = 1e-1\n",
        "\n",
        "\n",
        "x_y = x - y  # 1dim p elemntos\n",
        "norm = np.linalg.norm(x_y, ord=2) #scalar\n",
        "\n",
        "div = -1*(norm/(sigma)) #scarlar\n",
        "k = np.exp(div) #scalar\n",
        "k"
      ],
      "metadata": {
        "colab": {
          "base_uri": "https://localhost:8080/"
        },
        "id": "bwEEC0nADX9y",
        "outputId": "40442f5f-a711-4851-e3a2-4167d5ef6734"
      },
      "execution_count": null,
      "outputs": [
        {
          "output_type": "execute_result",
          "data": {
            "text/plain": [
              "1.1540441895382685e-59"
            ]
          },
          "metadata": {},
          "execution_count": 290
        }
      ]
    },
    {
      "cell_type": "markdown",
      "source": [
        "With sample pairs of sample sets $X, Y \\in \\mathbb{R}^{N \\times P}$"
      ],
      "metadata": {
        "id": "0t2MiFnTDqo1"
      }
    },
    {
      "cell_type": "code",
      "source": [
        "#with data sets\n",
        "N = 5\n",
        "P = 5\n",
        "sigma = 1e-1\n",
        "\n",
        "X = np.random.randn(N,P)\n",
        "Y = np.random.randn(N,P)\n",
        "\n",
        "OUT = np.zeros((N,N))\n",
        "\n",
        "for i in range(N):\n",
        "  resta = X[i,...] - Y # R{NXP}\n",
        "  norm = np.linalg.norm(resta, ord=2, axis=1) #R{N}\n",
        "  \n",
        "  div = -1*(norm/(sigma)) #R{N}\n",
        "  k = np.exp(div) #R{N}\n",
        "  OUT[i, ...] = k #R{NxN}\n",
        "\n",
        "print(OUT)"
      ],
      "metadata": {
        "colab": {
          "base_uri": "https://localhost:8080/"
        },
        "id": "JlWyqozyDrjQ",
        "outputId": "8d94cafa-b824-4ff4-bf3f-47c03f4ad84a"
      },
      "execution_count": null,
      "outputs": [
        {
          "output_type": "stream",
          "name": "stdout",
          "text": [
            "[[1.11792502e-15 1.69636009e-12 9.17858592e-12 7.48085266e-08\n",
            "  1.17096641e-10]\n",
            " [6.83605415e-08 1.51595185e-10 1.09136196e-13 2.21950110e-10\n",
            "  2.67473448e-09]\n",
            " [3.29895400e-21 4.49725961e-18 3.71919017e-23 2.27421606e-22\n",
            "  4.91896825e-14]\n",
            " [3.53970327e-14 4.94619948e-13 9.15220622e-15 1.56131659e-11\n",
            "  3.93030764e-12]\n",
            " [8.70213331e-13 4.85291051e-16 1.21058975e-11 5.54944885e-12\n",
            "  9.70904953e-08]]\n"
          ]
        }
      ]
    },
    {
      "cell_type": "markdown",
      "source": [
        "##2.6 ANOVA Kernel \n",
        "\n",
        "#$k(x,y) = \\sum_{k=1}^{n}e^{(-\\sigma(x^k - y^k)^2)^d} $"
      ],
      "metadata": {
        "id": "TpQ4CBwKD5pE"
      }
    },
    {
      "cell_type": "code",
      "source": [
        "#with samples \n",
        "x = np.asarray([1, 4.5, 0.8, 5.7, 4.2])\n",
        "y = np.asarray([0.5, 2.5, 3.8, -5.7, -2.2])\n",
        "sigma = 1e-1\n",
        "\n",
        "n = len(x)\n",
        "k=1\n",
        "d=2\n",
        "kernel = 0\n",
        "for k in range(n):\n",
        "  xk_yk2 = (x**k - y**k)**2  # 1dim p elemntos\n",
        "  _s_xk_yk2 = (-sigma*xk_yk2)**d\n",
        "\n",
        "  ker = np.exp(_s_xk_yk2) #scalar\n",
        "  kernel=kernel+ker\n",
        "kernel"
      ],
      "metadata": {
        "colab": {
          "base_uri": "https://localhost:8080/"
        },
        "id": "MfeSp-vMEDUq",
        "outputId": "74312bdf-ac8b-4471-9799-eb1c3a13081e"
      },
      "execution_count": null,
      "outputs": [
        {
          "output_type": "stream",
          "name": "stderr",
          "text": [
            "/usr/local/lib/python3.7/dist-packages/ipykernel_launcher.py:14: RuntimeWarning: overflow encountered in exp\n",
            "  \n"
          ]
        },
        {
          "output_type": "execute_result",
          "data": {
            "text/plain": [
              "array([5.01742797,        inf,        inf,        inf,        inf])"
            ]
          },
          "metadata": {},
          "execution_count": 292
        }
      ]
    },
    {
      "cell_type": "markdown",
      "source": [
        "With sample pairs of sample sets $X, Y \\in \\mathbb{R}^{N \\times P}$"
      ],
      "metadata": {
        "id": "Zo9X_M7REODn"
      }
    },
    {
      "cell_type": "code",
      "source": [
        "#with data sets\n",
        "N = 5\n",
        "P = 5\n",
        "sigma = 1e-1\n",
        "n = len(x)\n",
        "k=1\n",
        "d=2\n",
        "\n",
        "X = np.random.randn(N,P)\n",
        "Y = np.random.randn(N,P)\n",
        "\n",
        "OUT = np.zeros((N,N))\n",
        "\n",
        "for i in range(N):\n",
        " for k in range(n):\n",
        "  xk_yk2 = (X[i, ...]**k - Y**k)**2  # 1dim p elemntos\n",
        "  _s_xk_yk2 = (-sigma*xk_yk2)**d\n",
        "\n",
        "  ker = np.exp(_s_xk_yk2) #scalar\n",
        "  kernel=kernel+ker\n",
        "  OUT[i, ...] = kernel[i,...] #R{NxN}\n",
        "  OUT.shape\n",
        "\n",
        "print(OUT)"
      ],
      "metadata": {
        "colab": {
          "base_uri": "https://localhost:8080/"
        },
        "id": "yLv3b0GLERwY",
        "outputId": "e6531c17-5a1a-4a02-b094-fd478ae44263"
      },
      "execution_count": null,
      "outputs": [
        {
          "output_type": "stream",
          "name": "stdout",
          "text": [
            "[[4.45344240e+02            inf            inf            inf\n",
            "             inf]\n",
            " [1.50218201e+01            inf            inf            inf\n",
            "             inf]\n",
            " [4.06331664e+18            inf            inf            inf\n",
            "             inf]\n",
            " [1.68380243e+18            inf            inf            inf\n",
            "             inf]\n",
            " [3.04067162e+15            inf            inf            inf\n",
            "             inf]]\n"
          ]
        },
        {
          "output_type": "stream",
          "name": "stderr",
          "text": [
            "/usr/local/lib/python3.7/dist-packages/ipykernel_launcher.py:19: RuntimeWarning: overflow encountered in exp\n"
          ]
        }
      ]
    },
    {
      "cell_type": "markdown",
      "source": [
        "##2.7 Hyperbolic tangent Kernel \n",
        "\n",
        "#$k(x,y) = {tanh(\\alpha x^Ty+c)} $\n"
      ],
      "metadata": {
        "id": "4mrjErQJEZNI"
      }
    },
    {
      "cell_type": "code",
      "source": [
        "#with samples\n",
        "x = np.asarray([1, 4.5, 0.8, 5.7, 4.2])     #R{P} 1 Dim, P elements\n",
        "y = np.asarray([0.5, 2.5, 3.8, -5.7, -2.2]) #R{P}  1 Dim, P elements\n",
        " \n",
        "c = 6         #Scalar in R\n",
        "d = 2         #Scalar in R\n",
        "a = 1/ len(x)#Scalar in R (ALPHA)\n",
        "\n",
        "xT= np.transpose(x)           #R{P} 1 Dim, P elements\n",
        "axT= a*xT            #R{P} 1 Dim, P elements\n",
        "axTy= np.dot(axT, y) #Scalar in R\n",
        "\n",
        "tanh = np.tanh(axTy + c)   #Scalar in R     \n",
        "k = tanh             #Scalar in R\n",
        "k"
      ],
      "metadata": {
        "colab": {
          "base_uri": "https://localhost:8080/"
        },
        "id": "eq58ycTyEpae",
        "outputId": "f147e4cd-34b9-4ff8-f4e7-ca44cf74a0b6"
      },
      "execution_count": null,
      "outputs": [
        {
          "output_type": "execute_result",
          "data": {
            "text/plain": [
              "0.545533417946405"
            ]
          },
          "metadata": {},
          "execution_count": 294
        }
      ]
    },
    {
      "cell_type": "markdown",
      "source": [
        "With sample pairs of sample sets $X, Y \\in \\mathbb{R}^{N \\times P}$"
      ],
      "metadata": {
        "id": "KeUORdiLE_Zx"
      }
    },
    {
      "cell_type": "code",
      "source": [
        "#with data sets\n",
        "N = 5\n",
        "P = 5\n",
        "\n",
        "X = np.random.randn(N,P) #R{NxP} 2 Dim, Nxp Elements\n",
        "Y = np.random.randn(N,P) #R{NxP}    \"           \"\n",
        "c = 6         #Scalar in R\n",
        "d = 2         #Scalar in R\n",
        "a = 1/len(x)         #Scalar in R\n",
        "\n",
        "OUT = np.zeros((N,N))    #R{NxP}  2 Dim, Nxp Elements\n",
        "\n",
        "\n",
        "for i in range(N):\n",
        "  XT = np.transpose(X[i, ...])   #R{PxN}  2 Dim, Nxp Elements\n",
        "  aXT= a*XT                     #R{P} 1 Dim, P elements\n",
        "  aXTY= np.dot(aXT, Y)             #Scalar in R\n",
        "  tan = np.tanh(aXTY + c)               #Scalar in R\n",
        "  k = tan             #Scalar in R\n",
        "  OUT[i, ...] = k\n",
        "\n",
        "print(OUT) "
      ],
      "metadata": {
        "colab": {
          "base_uri": "https://localhost:8080/"
        },
        "id": "zT2vNOCBFDsc",
        "outputId": "7efcfef3-c0e9-4a54-9dba-73e3ef08f2e9"
      },
      "execution_count": null,
      "outputs": [
        {
          "output_type": "stream",
          "name": "stdout",
          "text": [
            "[[0.99999857 0.99998188 0.99996982 0.99999172 0.99998309]\n",
            " [0.99999688 0.99996302 0.99996873 0.99999619 0.99999065]\n",
            " [0.9999562  0.99996857 0.99998971 0.9999958  0.99999322]\n",
            " [0.99997897 0.99997245 0.99997825 0.99999612 0.99998709]\n",
            " [0.99999101 0.99999537 0.99998788 0.99996957 0.99998215]]\n"
          ]
        }
      ]
    },
    {
      "cell_type": "markdown",
      "source": [
        "##2.8 Rational Quadratic Nucleus\n",
        "\n",
        "$k(x,y) = 1 - { \\frac{\\lVert x - y \\rVert^2}{\\lVert x - y \\rVert^2 + c } \\big)}$, where $x,y \\in \\mathbb{R}^P; \\sigma \\in \\{c \\in \\mathbb{R}  \\}$"
      ],
      "metadata": {
        "id": "iokRKPuDFQ-P"
      }
    },
    {
      "cell_type": "code",
      "source": [
        "#With samples \n",
        "x = np.asarray([1, 4.5, 0.8, 5.7, 4.2])\n",
        "y = np.asarray([0.5, 2.5, 3.8, -5.7, -2.2])\n",
        "\n",
        "\n",
        "x_y = x - y  # 1dim p elemntos\n",
        "norm = np.linalg.norm(x_y, ord=2) #scalar\n",
        "norm2 = norm**2\n",
        "\n",
        "div = norm2/(norm2 + c) #scarlar\n",
        "resta = 1 - div\n",
        "k = resta #scalar\n",
        "k"
      ],
      "metadata": {
        "colab": {
          "base_uri": "https://localhost:8080/"
        },
        "id": "rh3UHVzIFeaZ",
        "outputId": "14099868-7b5c-4143-af20-7c918832f386"
      },
      "execution_count": null,
      "outputs": [
        {
          "output_type": "execute_result",
          "data": {
            "text/plain": [
              "0.03155071777882945"
            ]
          },
          "metadata": {},
          "execution_count": 296
        }
      ]
    },
    {
      "cell_type": "markdown",
      "source": [
        "With sample pairs of sample sets $X, Y \\in \\mathbb{R}^{N \\times P}$"
      ],
      "metadata": {
        "id": "ywHmyPbGFkuB"
      }
    },
    {
      "cell_type": "code",
      "source": [
        "\n",
        "#with data sets\n",
        "N = 5\n",
        "P = 5\n",
        "sigma = 1e-1\n",
        "\n",
        "X = np.random.randn(N,P)\n",
        "Y = np.random.randn(N,P)\n",
        "\n",
        "OUT = np.zeros((N,N))\n",
        "\n",
        "for i in range(N):\n",
        "  X_Y = X[i,...] - Y # R{NXP}\n",
        "  norm = np.linalg.norm(X_Y, ord=2, axis=1) #R{N}\n",
        "  norm2 = norm**2\n",
        "  \n",
        "  div = norm2/(norm2 + c) #R{N}\n",
        "  resta = 1 - div\n",
        "  k = resta #R{N}\n",
        "  OUT[i, ...] = k #R{NxN}\n",
        "\n",
        "print(OUT)"
      ],
      "metadata": {
        "colab": {
          "base_uri": "https://localhost:8080/"
        },
        "id": "7Re1PHPLFofY",
        "outputId": "8c9e49c7-fa91-4d64-9e09-12832af2e911"
      },
      "execution_count": null,
      "outputs": [
        {
          "output_type": "stream",
          "name": "stdout",
          "text": [
            "[[0.40151863 0.37136028 0.33462075 0.36175025 0.71003892]\n",
            " [0.31565397 0.66685083 0.72401866 0.39916739 0.31462886]\n",
            " [0.48961637 0.26444043 0.2836663  0.35279766 0.47753358]\n",
            " [0.3968096  0.71722583 0.70786827 0.54949699 0.50106242]\n",
            " [0.53458615 0.65852646 0.52458401 0.47454979 0.8024359 ]]\n"
          ]
        }
      ]
    },
    {
      "cell_type": "markdown",
      "source": [
        "##2.9 Multisquare core\n",
        "$k(x,y) = \\sqrt{\\lVert x - y \\rVert^2 + c^2}$, where $x,y \\in \\mathbb{R}^P;  \\{c \\in \\mathbb{R}  \\}$"
      ],
      "metadata": {
        "id": "_NlEaF1OFx31"
      }
    },
    {
      "cell_type": "code",
      "source": [
        "#with samples\n",
        "x = np.asarray([1, 4.5, 0.8, 5.7, 4.2])\n",
        "y = np.asarray([0.5, 2.5, 3.8, -5.7, -2.2])\n",
        "\n",
        "\n",
        "x_y = x - y  # 1dim p elemntos\n",
        "norm = np.linalg.norm(x_y, ord=2) #scalar\n",
        "norm2 = norm**2\n",
        "\n",
        "suma = norm2 + c**2 #scarlar\n",
        "raiz = np.sqrt(suma)\n",
        "k = raiz #scalar\n",
        "k"
      ],
      "metadata": {
        "colab": {
          "base_uri": "https://localhost:8080/"
        },
        "id": "VEYQNeERF25z",
        "outputId": "9359b5e5-d83e-4be6-f964-0281be1930c4"
      },
      "execution_count": null,
      "outputs": [
        {
          "output_type": "execute_result",
          "data": {
            "text/plain": [
              "14.83812656638297"
            ]
          },
          "metadata": {},
          "execution_count": 298
        }
      ]
    },
    {
      "cell_type": "markdown",
      "source": [
        "With sample pairs of sample sets $X, Y \\in \\mathbb{R}^{N \\times P}$"
      ],
      "metadata": {
        "id": "tGsoC8VqGAHK"
      }
    },
    {
      "cell_type": "code",
      "source": [
        "#with data sets\n",
        "N = 5\n",
        "P = 5\n",
        "\n",
        "X = np.random.randn(N,P)\n",
        "Y = np.random.randn(N,P)\n",
        "\n",
        "OUT = np.zeros((N,N))\n",
        "\n",
        "for i in range(N):\n",
        "  X_Y = X[i,...] - Y # R{NXP}\n",
        "  norm = np.linalg.norm(X_Y, ord=2, axis=1) #R{N}\n",
        "  norm2 = norm**2\n",
        "  \n",
        "  suma = norm2 + c**2 #R{N}\n",
        "  raiz = np.sqrt(suma)\n",
        "  k = raiz #R{N}\n",
        "  OUT[i, ...] = k #R{NxN}\n",
        "\n",
        "print(OUT)"
      ],
      "metadata": {
        "colab": {
          "base_uri": "https://localhost:8080/"
        },
        "id": "l5OUq_wwGESv",
        "outputId": "06c79ab9-f4a4-44b0-deba-fe026f7309a5"
      },
      "execution_count": null,
      "outputs": [
        {
          "output_type": "stream",
          "name": "stdout",
          "text": [
            "[[6.25230604 6.86438039 6.56561489 6.11817099 6.72714991]\n",
            " [6.5379893  6.69907261 6.39300774 6.73024927 6.76320708]\n",
            " [6.34034653 6.85683834 6.51208723 6.48100268 6.52580177]\n",
            " [6.52072389 7.61060624 6.82954822 6.88777684 6.44692567]\n",
            " [7.27978135 7.03385482 7.16880034 6.77735177 7.67606186]]\n"
          ]
        }
      ]
    },
    {
      "cell_type": "markdown",
      "source": [
        "##2.10 Inverse multiquare core \n",
        "\n",
        "$k(x,y) ={ \\frac{1}{\\sqrt{\\lVert x - y \\rVert^2 + c^2}} \\big)}$, where $x,y \\in \\mathbb{R}^P; \\{c \\in \\mathbb{R}  \\}$"
      ],
      "metadata": {
        "id": "hiXYEe61GPfu"
      }
    },
    {
      "cell_type": "code",
      "source": [
        "#with samples\n",
        "x = np.asarray([1, 4.5, 0.8, 5.7, 4.2])\n",
        "y = np.asarray([0.5, 2.5, 3.8, -5.7, -2.2])\n",
        "\n",
        "\n",
        "x_y = x - y  # 1dim p elemntos\n",
        "norm = np.linalg.norm(x_y, ord=2) #scalar\n",
        "norm2 = norm**2\n",
        "\n",
        "suma = norm2 + c**2 #scarlar\n",
        "raiz = np.sqrt(suma)\n",
        "k = 1/raiz #scalar\n",
        "k"
      ],
      "metadata": {
        "colab": {
          "base_uri": "https://localhost:8080/"
        },
        "id": "EVNN_LpDGdYd",
        "outputId": "60a1c0c3-0c83-478a-8011-4d946a9658bd"
      },
      "execution_count": null,
      "outputs": [
        {
          "output_type": "execute_result",
          "data": {
            "text/plain": [
              "0.06739395270192564"
            ]
          },
          "metadata": {},
          "execution_count": 300
        }
      ]
    },
    {
      "cell_type": "markdown",
      "source": [
        "With sample pairs of sample sets $X, Y \\in \\mathbb{R}^{N \\times P}$"
      ],
      "metadata": {
        "id": "RJBiL5F_Gmqh"
      }
    },
    {
      "cell_type": "code",
      "source": [
        "#with data sets \n",
        "N = 5\n",
        "P = 5\n",
        "\n",
        "X = np.random.randn(N,P)\n",
        "Y = np.random.randn(N,P)\n",
        "\n",
        "OUT = np.zeros((N,N))\n",
        "\n",
        "for i in range(N):\n",
        "  X_Y = X[i,...] - Y # R{NXP}\n",
        "  norm = np.linalg.norm(X_Y, ord=2, axis=1) #R{N}\n",
        "  norm2 = norm**2\n",
        "  \n",
        "  suma = norm2 + c**2 #R{N}\n",
        "  raiz = np.sqrt(suma)\n",
        "  k = 1/raiz #R{N}\n",
        "  OUT[i, ...] = k #R{NxN}\n",
        "\n",
        "print(OUT)"
      ],
      "metadata": {
        "colab": {
          "base_uri": "https://localhost:8080/"
        },
        "id": "CNStsHrmGoxJ",
        "outputId": "a7aea2fe-88ce-4c32-8b5f-5324c54ff98e"
      },
      "execution_count": null,
      "outputs": [
        {
          "output_type": "stream",
          "name": "stdout",
          "text": [
            "[[0.1658607  0.14615661 0.16144558 0.13747222 0.15393321]\n",
            " [0.16042463 0.15624141 0.16152945 0.14287815 0.157356  ]\n",
            " [0.15788793 0.1455228  0.14884039 0.14122582 0.14817151]\n",
            " [0.1401734  0.12363583 0.14167683 0.12392522 0.14216931]\n",
            " [0.16012957 0.14848746 0.16261449 0.14036717 0.16014837]]\n"
          ]
        }
      ]
    },
    {
      "cell_type": "markdown",
      "source": [
        "# Kernel class"
      ],
      "metadata": {
        "id": "RB4icjxtr1TY"
      }
    },
    {
      "cell_type": "code",
      "source": [
        "class Kernel():\n",
        "  \"\"\"\n",
        "  This Class can evaluate the 10 kernels\n",
        "\n",
        "  \"\"\"\n",
        "  def __init__(self, a, c, d): #construct\n",
        "    pass\n",
        "\n",
        "# Lineal kernel\n",
        "\n",
        "  def lineal_muestras(self, x , y):  #Linear kernel method for samples in R^P\n",
        "    \"\"\"\n",
        "    Returns linear kernel for a pair of samples x and y in R^p\n",
        "    R^p -> R\n",
        "\n",
        "    \"\"\"\n",
        "    xT= np.transpose(x)           #R{P} 1 Dim, P elements\n",
        "    dot = np.dot(xT, y)           #Scalar in R\n",
        "    k = dot + c                   #Scalar in R\n",
        "    return k\n",
        "\n",
        "  def lineal_conj_muestras(self, X, Y):  #Linear kernel method for sample size sets NxP\n",
        "    \"\"\"\n",
        "    Returns linear kernel for sample sets X and Y in R^NxP\n",
        "    R^NxP -> R^NxN\n",
        "\n",
        "    \"\"\"\n",
        "    OUT = np.zeros((N,N))    #R{NxP}  2 Dim, Nxp Elements\n",
        "\n",
        "    for i in range(N):\n",
        "      XT = np.transpose(X[i, ...])   #R{PxN}  2 Dim, Nxp Elements\n",
        "      dot = np.dot(XT, Y)           #R{P}\n",
        "      k = dot + c                   #R\n",
        "      k\n",
        "      OUT[i, ...] = k\n",
        "    return OUT\n",
        "\n",
        "# Polynomial kernel \n",
        "\n",
        "  def pol_muestras(self, x , y):\n",
        "    \"\"\"\n",
        "    Returns polynomial kernel for a pair of samples x and y in R^p\n",
        "    R^p -> R\n",
        "    \"\"\"\n",
        "    xT= np.transpose(x)           #R{P} 1 Dim, P elements\n",
        "    axT= a*xT                     #R{P} 1 Dim, P elements\n",
        "    axTy= np.dot(axT, y)             #Scalar in R\n",
        "    k = (axTy + c)**d                #Scalar in R\n",
        "    return k\n",
        "\n",
        "  def pol_conj_muestras(self, X, Y):\n",
        "    \"\"\"\n",
        "    Returns polynomial kernel for sample sets X and Y in R^NxP\n",
        "    R^NxP -> R^NxN\n",
        "\n",
        "    \"\"\"\n",
        "    OUT = np.zeros((N,N))    #R{NxP}  2 Dim, Nxp Elements\n",
        "    for i in range(N):\n",
        "      XT = np.transpose(X[i, ...])   #R{PxN}  2 Dim, Nxp Elements\n",
        "      aXT= a*XT                     #R{P} 1 Dim, P elements\n",
        "      aXTY= np.dot(aXT, Y)             #Scalar in R\n",
        "      k = (aXTY + c)**d                #Scalar in R\n",
        "      OUT[i, ...] = k\n",
        "    return OUT\n",
        "  \n",
        "\n",
        "# Gaussian kernel \n",
        "\n",
        "  def gaus_muestras(self, x, y, sigma):\n",
        "    \"\"\"\n",
        "   Returns gaussian kernel for a pair of samples x and y in R^p\n",
        "    R^p -> R\n",
        "    \"\"\"\n",
        "  \n",
        "    x_y = x - y  # 1dim p elemntos\n",
        "    norm = np.linalg.norm(x_y, ord=2) #scalar\n",
        "    norm = norm**2 #sca\n",
        "    div = -1*(norm/(2*sigma**2)) #scarlar\n",
        "    k = np.exp(div) #scalar\n",
        "    return k\n",
        "\n",
        "  def gaus_conj_muestras(self, X, Y, sigma):\n",
        "    \"\"\"\n",
        "     Returns polynomial kernel for sample sets X and Y in  R^NxP\n",
        "    R^NxP -> R^NxN\n",
        "    \"\"\"\n",
        "\n",
        "    OUT = np.zeros(np.shape(X))\n",
        "    for i in range(N):\n",
        "      resta = X[i,...] - Y # R{NXP}\n",
        "      norm = np.linalg.norm(resta, ord=2, axis=1) #R{N}\n",
        "      norm = norm**2 #R{N}\n",
        "      div = -1*(norm/(2*sigma**2)) #R{N}\n",
        "      k = np.exp(div) #R{N}\n",
        "      OUT[i, ...] = k\n",
        "    return OUT\n",
        "  \n",
        "# Exponential kernel \n",
        "\n",
        "  def exp_muestras(self, x, y, sigma):\n",
        "    \"\"\"\n",
        "    Returns exponential kernel for a pair of samples x and y in R^p\n",
        "    R^p -> R\n",
        "    \"\"\"\n",
        "    x_y = x - y  # 1dim p elemntos\n",
        "    norm = np.linalg.norm(x_y, ord=2) #scalar\n",
        "    div = -1*(norm/(2*sigma**2)) #scarlar\n",
        "    k = np.exp(div) #scalar\n",
        "    return k\n",
        "\n",
        "  def exp_conj_muestras(self, X, Y, sigma):\n",
        "    \"\"\"\n",
        "     Returns exponential kernel for sample sets X and Y in  R^NxP\n",
        "    R^NxP -> R^NxN\n",
        "    \"\"\"\n",
        "    OUT = np.zeros(np.shape(X))\n",
        "    for i in range(len(X[...,0])):\n",
        "      resta = X[i,...] - Y # R{NXP}\n",
        "      norm = np.linalg.norm(resta, ord=2, axis=1) #R{N}\n",
        "  \n",
        "      div = -1*(norm/(2*sigma**2)) #R{N}\n",
        "      k = np.exp(div) #R{N}\n",
        "      OUT[i, ...] = k #R{NxN}\n",
        "    return OUT\n",
        "    \n",
        "#Laplacian kernel\n",
        "\n",
        "  def laplace_muestras(self, x, y, sigma):\n",
        "    \"\"\"\n",
        "    Returns laplacian kernel for a pair of samples x and y in R^p\n",
        "    R^p -> R\n",
        "    \"\"\"\n",
        "    x_y = x - y  # 1dim p elemntos\n",
        "    norm = np.linalg.norm(x_y, ord=2) #scalar\n",
        "\n",
        "    div = -1*(norm/(sigma)) #scarlar\n",
        "    k = np.exp(div) #scalar\n",
        "    return k\n",
        "\n",
        "  def laplace_conj_muestras(self, X, Y, sigma):\n",
        "    \"\"\"\n",
        "    Returns laplacian kernel for sample sets X and Y in R^NxP\n",
        "    R^NxP -> R^NxN\n",
        "    \"\"\"\n",
        "    OUT = np.zeros(np.shape(X))\n",
        "    for i in range(len(X[...,0])):\n",
        "      resta = X[i,...] - Y # R{NXP}\n",
        "      norm = np.linalg.norm(resta, ord=2, axis=1) #R{N}\n",
        "      div = -1*(norm/(sigma)) #R{N}\n",
        "      k = np.exp(div) #R{N}\n",
        "      OUT[i, ...] = k #R{NxN}\n",
        "    return OUT\n",
        "  \n",
        "#Anova kernel \n",
        "\n",
        "  def anova_muestras(self, x, y, sigma):\n",
        "    \"\"\"\n",
        "  Returns anova kernel for a pair of samples x and y in  R^p\n",
        "    R^p -> R\n",
        "    \"\"\"\n",
        "    n = len(x)\n",
        "    k=1\n",
        "    d=2\n",
        "    kernell = 0\n",
        "    for k in range(len(x)):\n",
        "      xk_yk2 = (x**k - y**k)**2  # 1dim p elemntos\n",
        "      _s_xk_yk2 = (-sigma*xk_yk2)**d\n",
        "      ker = np.exp(_s_xk_yk2) #scalar\n",
        "      kernell = kernell + ker\n",
        "    return kernell\n",
        "\n",
        "  def anova_conj_muestras(self, X, Y, sigma):\n",
        "    \"\"\"\n",
        "     Returns anova kernel for sample sets X and Y in R^NxP\n",
        "    R^NxP -> R^NxN\n",
        "    \"\"\"\n",
        "    OUT = np.zeros(np.shape(X))\n",
        "    kernell = 0\n",
        "    for i in range(len(X[...,0])):\n",
        "      for k in range(len(X[...,0])):\n",
        "       xk_yk2 = (X[i, ...]**k - Y**k)**2  # 1dim p elemntos\n",
        "       _s_xk_yk2 = (-sigma*xk_yk2)**d\n",
        "       ker = np.exp(_s_xk_yk2) #scalar\n",
        "       kernell=kernell+ker\n",
        "       OUT[i, ...] = kernell[i,...] #R{NxN}\n",
        "    return OUT\n",
        "\n",
        "# Hyperbolic tan kernel \n",
        "\n",
        "  def tanh_muestras(self, x, y):\n",
        "    \"\"\"\n",
        "    Returns hyperbolic tangent kernel for a pair of samples x and y in R^p\n",
        "    R^p -> R\n",
        "    \"\"\"\n",
        "    a = 1/ len(x)#Scalar in R (ALPHA)\n",
        "    xT= np.transpose(x)           #R{P} 1 Dim, P elements\n",
        "    axT= a*xT            #R{P} 1 Dim, P elements\n",
        "    axTy= np.dot(axT, y) #Scalar in R\n",
        "\n",
        "    tanh = np.tanh(axTy + c)   #Scalar in R     \n",
        "    k = tanh             #Scalar in R\n",
        "    return k\n",
        "\n",
        "  def tanh_conj_muestras(self, X, Y):\n",
        "    \"\"\"\n",
        "   Returns  hyperbolic tangent kernel for sample sets X and Y in R^NxP\n",
        "    R^NxP -> R^NxN\n",
        "    \"\"\"\n",
        "    OUT = np.zeros(np.shape(X))\n",
        "    a = 1/len(x)         #Scalar in R\n",
        "    for i in range(len(X[...,0])):\n",
        "      XT = np.transpose(X[i, ...])   #R{PxN}  2 Dim, Nxp Elements\n",
        "      aXT= a*XT                     #R{P} 1 Dim, P elements\n",
        "      aXTY= np.dot(aXT, Y)             #Scalar in R\n",
        "      tan = np.tanh(aXTY + c)               #Scalar in R\n",
        "      k = tan             #Scalar in R\n",
        "      OUT[i, ...] = k\n",
        "    return OUT\n",
        "\n",
        "#rational quadratic kernel\n",
        "  def cuad_racional_muestras(self, x, y):\n",
        "    \"\"\"\n",
        "    Returns rational quadratic kernel for a pair of samples x and y in R^p\n",
        "    R^p -> R\n",
        "    \"\"\"\n",
        "    x_y = x - y  # 1dim p elemntos\n",
        "    norm = np.linalg.norm(x_y, ord=2) #scalar\n",
        "    norm2 = norm**2\n",
        "\n",
        "    div = norm2/(norm2 + c) #scarlar\n",
        "    resta = 1 - div\n",
        "    k = resta #scalar\n",
        "    return k\n",
        "\n",
        "  def cuad_racional_conj_muestras(self, X, Y):\n",
        "    \"\"\"\n",
        "    Returns  rational quadratic kernel for sample sets X and Y in R^NxP\n",
        "    R^NxP -> R^NxN\n",
        "    \"\"\"\n",
        "    OUT = np.zeros(np.shape(X))\n",
        "    for i in range(len(X[...,0])):\n",
        "      X_Y = X[i,...] - Y # R{NXP}\n",
        "      norm = np.linalg.norm(X_Y, ord=2, axis=1) #R{N}\n",
        "      norm2 = norm**2\n",
        "  \n",
        "      div = norm2/(norm2 + c) #R{N}\n",
        "      resta = 1 - div\n",
        "      k = resta #R{N}\n",
        "      OUT[i, ...] = k #R{NxN}\n",
        "    return OUT\n",
        "\n",
        "# Multiquadratic kernel\n",
        "  def multicuadratico_muestras(self, x, y):\n",
        "    \"\"\"\n",
        "    Returns multiquadratic kernel for a pair of samples x and y in R^p\n",
        "    R^p -> R\n",
        "    \"\"\"\n",
        "    x_y = x - y  # 1dim p elemntos\n",
        "    norm = np.linalg.norm(x_y, ord=2) #scalar\n",
        "    norm2 = norm**2\n",
        "\n",
        "    suma = norm2 + c**2 #scarlar\n",
        "    raiz = np.sqrt(suma)\n",
        "    k = raiz #scalar\n",
        "    return k\n",
        "\n",
        "  def multicuadratico_conj_muestras(self, X, Y):\n",
        "    \"\"\"\n",
        "   Returns  multiquadratic kernel for sample sets X and Y in R^NxP\n",
        "    R^NxP -> R^NxN\n",
        "    \"\"\"\n",
        "    OUT = np.zeros(np.shape(X))\n",
        "    for i in range(len(X[...,0])):\n",
        "      X_Y = X[i,...] - Y # R{NXP}\n",
        "      norm = np.linalg.norm(X_Y, ord=2, axis=1) #R{N}\n",
        "      norm2 = norm**2\n",
        "  \n",
        "      suma = norm2 + c**2 #R{N}\n",
        "      raiz = np.sqrt(suma)\n",
        "      k = raiz #R{N}\n",
        "      OUT[i, ...] = k #R{NxN}\n",
        "    return OUT\n",
        "\n",
        "# Inverse multiquadratic kernel\n",
        "  def multicuadratico_inv_muestras(self, x, y):\n",
        "    \"\"\"\n",
        "    Returns Inverse multiquadratic kernel for a pair of samples x and y in R^p\n",
        "    R^p -> R\n",
        "    \"\"\"\n",
        "    x_y = x - y  # 1dim p elemntos\n",
        "    norm = np.linalg.norm(x_y, ord=2) #scalar\n",
        "    norm2 = norm**2\n",
        "\n",
        "    suma = norm2 + c**2 #scarlar\n",
        "    raiz = np.sqrt(suma)\n",
        "    k = 1/raiz #scalar\n",
        "    return k\n",
        "\n",
        "  def multicuadratico_inv_conj_muestars(self, X, Y):\n",
        "    \"\"\"\n",
        "    Returns Inverse multiquadratic kernel for sample sets X and Y inR^NxP\n",
        "    R^NxP -> R^NxN\n",
        "    \"\"\"\n",
        "    OUT = np.zeros(np.shape(X))\n",
        "    for i in range(len(X[...,0])):\n",
        "      X_Y = X[i,...] - Y # R{NXP}\n",
        "      norm = np.linalg.norm(X_Y, ord=2, axis=1) #R{N}\n",
        "      norm2 = norm**2\n",
        "  \n",
        "      suma = norm2 + c**2 #R{N}\n",
        "      raiz = np.sqrt(suma)\n",
        "      k = 1/raiz #R{N}\n",
        "      OUT[i, ...] = k #R{NxN}\n",
        "    return OUT"
      ],
      "metadata": {
        "id": "T2AwTasu1mLo"
      },
      "execution_count": null,
      "outputs": []
    }
  ]
}