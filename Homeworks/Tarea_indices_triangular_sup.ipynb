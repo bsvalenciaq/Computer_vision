{
  "nbformat": 4,
  "nbformat_minor": 0,
  "metadata": {
    "colab": {
      "name": "Tarea_indices_triangular_sup",
      "provenance": []
    },
    "kernelspec": {
      "name": "python3",
      "display_name": "Python 3"
    },
    "language_info": {
      "name": "python"
    }
  },
  "cells": [
    {
      "cell_type": "markdown",
      "source": [
        "\n",
        "1. Función que retorne los indices de la triangular superior de una matriz de tamaño n x n.\n"
      ],
      "metadata": {
        "id": "MKTkSB0d-Tou"
      }
    },
    {
      "cell_type": "code",
      "source": [
        "import numpy as np"
      ],
      "metadata": {
        "id": "s0hSwsAT-ZAn"
      },
      "execution_count": 1,
      "outputs": []
    },
    {
      "cell_type": "code",
      "source": [
        "def indices_triangularsup(n): #n = orden de la matriz cuadrada\n",
        "  \n",
        "  ord = 0.5*n*(n-1)+n  #calculo el tamaño necesario de los vectores de acuerdo a la cantidad de elementos de la triangular superior\n",
        "  ind_f = np.zeros(int(ord), dtype=np.uint8)  #vector indice por fila de ceros de tamaño: 0.5*n*(n-1)+n\n",
        "  ind_c = np.zeros(int(ord),dtype=np.uint8)  #vector indice por fila de ceros de tamaño: 0.5*n*(n-1)+n    \n",
        "\n",
        "  cont = 0               \n",
        "  for f in range(n):   # filas\n",
        " \n",
        "    for c in range(n): # columnas\n",
        "     if f <= c:        #cada vez que la columna sea mayor a la fila\n",
        "       ind_f[cont]=f   # agregar f en la posicion cont del vector\n",
        "       ind_c[cont]=c   # agregar c en la posicion cont del vector\n",
        "       cont=cont+1     #sumo 1 al contador para pasar a la siguiente posicion del vector\n",
        "    \n",
        "    \n",
        "\n",
        " \n",
        "  return ind_f,ind_c\n"
      ],
      "metadata": {
        "id": "PZeqAHUw1nOq"
      },
      "execution_count": 39,
      "outputs": []
    },
    {
      "cell_type": "code",
      "source": [
        "i = 1\n",
        "while i==1:\n",
        "  n = int(input(\"introduzca el orden de la matriz: \"))\n",
        "  if n<0:\n",
        "    print(\"el orden de la matriz debe ser un numero entero positivo\")\n",
        "  else: i=0 \n"
      ],
      "metadata": {
        "colab": {
          "base_uri": "https://localhost:8080/"
        },
        "id": "Fs9STnanXx8p",
        "outputId": "8a5f5dd0-2d32-48d7-a56c-e4572a0b7eb5"
      },
      "execution_count": 42,
      "outputs": [
        {
          "name": "stdout",
          "output_type": "stream",
          "text": [
            "introduzca el orden de la matriz: 6\n"
          ]
        }
      ]
    },
    {
      "cell_type": "code",
      "source": [
        "indices_triangularsup(n) #llamo la funcion para una matriz de orden n"
      ],
      "metadata": {
        "colab": {
          "base_uri": "https://localhost:8080/"
        },
        "id": "URpUdAQp46lO",
        "outputId": "b82c628b-ef44-43cd-a75e-aef90f67d1cf"
      },
      "execution_count": 43,
      "outputs": [
        {
          "output_type": "execute_result",
          "data": {
            "text/plain": [
              "(array([0, 0, 0, 0, 0, 0, 1, 1, 1, 1, 1, 2, 2, 2, 2, 3, 3, 3, 4, 4, 5],\n",
              "       dtype=uint8),\n",
              " array([0, 1, 2, 3, 4, 5, 1, 2, 3, 4, 5, 2, 3, 4, 5, 3, 4, 5, 4, 5, 5],\n",
              "       dtype=uint8))"
            ]
          },
          "metadata": {},
          "execution_count": 43
        }
      ]
    },
    {
      "cell_type": "code",
      "source": [
        "M = np.empty(shape=(n,n), dtype=np.uint8) #Matriz aleatoria\n",
        "M"
      ],
      "metadata": {
        "colab": {
          "base_uri": "https://localhost:8080/"
        },
        "id": "9THdKkS4XT1f",
        "outputId": "5c0113d1-6169-4c3d-dea4-0fa17fc6de89"
      },
      "execution_count": 44,
      "outputs": [
        {
          "output_type": "execute_result",
          "data": {
            "text/plain": [
              "array([[160,  40, 140, 114, 228,  85],\n",
              "       [  0,   0,   0,   0,   0,   0],\n",
              "       [  0,   0,   0,   0,   0,   0],\n",
              "       [  0,   0,   0,   0,   0,   0],\n",
              "       [  0,   0,   0,   0,   0,   0],\n",
              "       [  0,   0,   0,   0,   0,   0]], dtype=uint8)"
            ]
          },
          "metadata": {},
          "execution_count": 44
        }
      ]
    },
    {
      "cell_type": "code",
      "source": [
        "M[indices_triangularsup(n)] #elementos de la matriz correspondientes a los indices retornados por la funcion"
      ],
      "metadata": {
        "colab": {
          "base_uri": "https://localhost:8080/"
        },
        "id": "cTI1QeJaCEZv",
        "outputId": "ffe5037a-1ff4-43c0-9d2e-08bf3bd46365"
      },
      "execution_count": 45,
      "outputs": [
        {
          "output_type": "execute_result",
          "data": {
            "text/plain": [
              "array([160,  40, 140, 114, 228,  85,   0,   0,   0,   0,   0,   0,   0,\n",
              "         0,   0,   0,   0,   0,   0,   0,   0], dtype=uint8)"
            ]
          },
          "metadata": {},
          "execution_count": 45
        }
      ]
    }
  ]
}